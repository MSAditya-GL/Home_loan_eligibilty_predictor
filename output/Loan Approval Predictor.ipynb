{
 "cells": [
  {
   "cell_type": "markdown",
   "id": "b0d3ecc2",
   "metadata": {},
   "source": [
    "# Objective:"
   ]
  },
  {
   "cell_type": "markdown",
   "id": "fe6b4032",
   "metadata": {},
   "source": [
    "- This is a standard supervised classification task. A classification problem where we have to predict whether a customer is eligible for loan or not based on a given set of independent variable(s).\n",
    "- To build a Python Flask ML application where a user has to get registered by entering the username and password and login to the website and then enter their details to check whether they are eligible for loan or not.\n"
   ]
  },
  {
   "cell_type": "markdown",
   "id": "022bd7b9",
   "metadata": {},
   "source": [
    "### 1. Importing Libraries"
   ]
  },
  {
   "cell_type": "code",
   "execution_count": 1,
   "id": "84760641",
   "metadata": {},
   "outputs": [],
   "source": [
    "import numpy as np \n",
    "import pandas as pd \n",
    "import matplotlib.pyplot as plt\n",
    "import seaborn as sns\n",
    "import sklearn\n",
    "from sklearn.model_selection import train_test_split\n",
    "import warnings\n",
    "warnings.filterwarnings('ignore')\n",
    "\n",
    "import sklearn\n",
    "from sklearn.preprocessing import LabelEncoder\n",
    "from sklearn.model_selection import train_test_split\n",
    "from sklearn.metrics import r2_score, accuracy_score\n",
    "from sklearn.linear_model import LinearRegression, LogisticRegression\n",
    "from sklearn.naive_bayes import GaussianNB\n",
    "from sklearn.neighbors import KNeighborsClassifier\n",
    "from sklearn.tree import DecisionTreeClassifier\n",
    "from sklearn.ensemble import RandomForestClassifier, RandomForestRegressor, BaggingClassifier, AdaBoostClassifier, GradientBoostingClassifier\n",
    "from sklearn.ensemble import StackingClassifier"
   ]
  },
  {
   "cell_type": "markdown",
   "id": "e03081bb",
   "metadata": {},
   "source": [
    "### 2. Load the dataset and Check the first few samples, shape, info of the data and try to familiarize yourself with different features. "
   ]
  },
  {
   "cell_type": "code",
   "execution_count": 2,
   "id": "c943e972",
   "metadata": {},
   "outputs": [
    {
     "data": {
      "text/html": [
       "<div>\n",
       "<style scoped>\n",
       "    .dataframe tbody tr th:only-of-type {\n",
       "        vertical-align: middle;\n",
       "    }\n",
       "\n",
       "    .dataframe tbody tr th {\n",
       "        vertical-align: top;\n",
       "    }\n",
       "\n",
       "    .dataframe thead th {\n",
       "        text-align: right;\n",
       "    }\n",
       "</style>\n",
       "<table border=\"1\" class=\"dataframe\">\n",
       "  <thead>\n",
       "    <tr style=\"text-align: right;\">\n",
       "      <th></th>\n",
       "      <th>loan_id</th>\n",
       "      <th>gender</th>\n",
       "      <th>married</th>\n",
       "      <th>dependents</th>\n",
       "      <th>education</th>\n",
       "      <th>self_employed</th>\n",
       "      <th>applicantincome</th>\n",
       "      <th>coapplicantincome</th>\n",
       "      <th>loanamount</th>\n",
       "      <th>loan_amount_term</th>\n",
       "      <th>credit_history</th>\n",
       "      <th>property_area</th>\n",
       "      <th>loan_status</th>\n",
       "    </tr>\n",
       "  </thead>\n",
       "  <tbody>\n",
       "    <tr>\n",
       "      <th>0</th>\n",
       "      <td>lp001002</td>\n",
       "      <td>male</td>\n",
       "      <td>no</td>\n",
       "      <td>0.0</td>\n",
       "      <td>graduate</td>\n",
       "      <td>no</td>\n",
       "      <td>5849</td>\n",
       "      <td>0.0</td>\n",
       "      <td>NaN</td>\n",
       "      <td>360.0</td>\n",
       "      <td>1.0</td>\n",
       "      <td>urban</td>\n",
       "      <td>y</td>\n",
       "    </tr>\n",
       "    <tr>\n",
       "      <th>1</th>\n",
       "      <td>lp001003</td>\n",
       "      <td>male</td>\n",
       "      <td>yes</td>\n",
       "      <td>1.0</td>\n",
       "      <td>graduate</td>\n",
       "      <td>no</td>\n",
       "      <td>4583</td>\n",
       "      <td>1508.0</td>\n",
       "      <td>128.0</td>\n",
       "      <td>360.0</td>\n",
       "      <td>1.0</td>\n",
       "      <td>rural</td>\n",
       "      <td>n</td>\n",
       "    </tr>\n",
       "    <tr>\n",
       "      <th>2</th>\n",
       "      <td>lp001005</td>\n",
       "      <td>male</td>\n",
       "      <td>yes</td>\n",
       "      <td>0.0</td>\n",
       "      <td>graduate</td>\n",
       "      <td>yes</td>\n",
       "      <td>3000</td>\n",
       "      <td>0.0</td>\n",
       "      <td>66.0</td>\n",
       "      <td>360.0</td>\n",
       "      <td>1.0</td>\n",
       "      <td>urban</td>\n",
       "      <td>y</td>\n",
       "    </tr>\n",
       "    <tr>\n",
       "      <th>3</th>\n",
       "      <td>lp001006</td>\n",
       "      <td>male</td>\n",
       "      <td>yes</td>\n",
       "      <td>0.0</td>\n",
       "      <td>not graduate</td>\n",
       "      <td>no</td>\n",
       "      <td>2583</td>\n",
       "      <td>2358.0</td>\n",
       "      <td>120.0</td>\n",
       "      <td>360.0</td>\n",
       "      <td>1.0</td>\n",
       "      <td>urban</td>\n",
       "      <td>y</td>\n",
       "    </tr>\n",
       "    <tr>\n",
       "      <th>4</th>\n",
       "      <td>lp001008</td>\n",
       "      <td>male</td>\n",
       "      <td>no</td>\n",
       "      <td>0.0</td>\n",
       "      <td>graduate</td>\n",
       "      <td>no</td>\n",
       "      <td>6000</td>\n",
       "      <td>0.0</td>\n",
       "      <td>141.0</td>\n",
       "      <td>360.0</td>\n",
       "      <td>1.0</td>\n",
       "      <td>urban</td>\n",
       "      <td>y</td>\n",
       "    </tr>\n",
       "  </tbody>\n",
       "</table>\n",
       "</div>"
      ],
      "text/plain": [
       "    loan_id gender married  dependents     education self_employed  \\\n",
       "0  lp001002   male      no         0.0      graduate            no   \n",
       "1  lp001003   male     yes         1.0      graduate            no   \n",
       "2  lp001005   male     yes         0.0      graduate           yes   \n",
       "3  lp001006   male     yes         0.0  not graduate            no   \n",
       "4  lp001008   male      no         0.0      graduate            no   \n",
       "\n",
       "   applicantincome  coapplicantincome  loanamount  loan_amount_term  \\\n",
       "0             5849                0.0         NaN             360.0   \n",
       "1             4583             1508.0       128.0             360.0   \n",
       "2             3000                0.0        66.0             360.0   \n",
       "3             2583             2358.0       120.0             360.0   \n",
       "4             6000                0.0       141.0             360.0   \n",
       "\n",
       "   credit_history property_area loan_status  \n",
       "0             1.0         urban           y  \n",
       "1             1.0         rural           n  \n",
       "2             1.0         urban           y  \n",
       "3             1.0         urban           y  \n",
       "4             1.0         urban           y  "
      ]
     },
     "execution_count": 2,
     "metadata": {},
     "output_type": "execute_result"
    }
   ],
   "source": [
    "# Load the dataset\n",
    "df = pd.read_csv('loan_approval_data.csv')\n",
    "df.head()"
   ]
  },
  {
   "cell_type": "code",
   "execution_count": 3,
   "id": "c52c69f1",
   "metadata": {},
   "outputs": [
    {
     "data": {
      "text/plain": [
       "(614, 13)"
      ]
     },
     "execution_count": 3,
     "metadata": {},
     "output_type": "execute_result"
    }
   ],
   "source": [
    "# checking the Shape\n",
    "df.shape"
   ]
  },
  {
   "cell_type": "code",
   "execution_count": 4,
   "id": "67541a69",
   "metadata": {},
   "outputs": [
    {
     "name": "stdout",
     "output_type": "stream",
     "text": [
      "<class 'pandas.core.frame.DataFrame'>\n",
      "RangeIndex: 614 entries, 0 to 613\n",
      "Data columns (total 13 columns):\n",
      " #   Column             Non-Null Count  Dtype  \n",
      "---  ------             --------------  -----  \n",
      " 0   loan_id            614 non-null    object \n",
      " 1   gender             601 non-null    object \n",
      " 2   married            611 non-null    object \n",
      " 3   dependents         599 non-null    float64\n",
      " 4   education          614 non-null    object \n",
      " 5   self_employed      582 non-null    object \n",
      " 6   applicantincome    614 non-null    int64  \n",
      " 7   coapplicantincome  614 non-null    float64\n",
      " 8   loanamount         592 non-null    float64\n",
      " 9   loan_amount_term   600 non-null    float64\n",
      " 10  credit_history     564 non-null    float64\n",
      " 11  property_area      614 non-null    object \n",
      " 12  loan_status        614 non-null    object \n",
      "dtypes: float64(5), int64(1), object(7)\n",
      "memory usage: 62.5+ KB\n"
     ]
    }
   ],
   "source": [
    "# checking the Info\n",
    "df.info()"
   ]
  },
  {
   "cell_type": "markdown",
   "id": "3e970f1c",
   "metadata": {},
   "source": [
    "- This output shows that we have around 614 entries with 13 columns\n",
    "- We have 7 object data type, 5 Float data type and 1 Integer data type"
   ]
  },
  {
   "cell_type": "code",
   "execution_count": 5,
   "id": "965d2660",
   "metadata": {},
   "outputs": [
    {
     "data": {
      "text/html": [
       "<div>\n",
       "<style scoped>\n",
       "    .dataframe tbody tr th:only-of-type {\n",
       "        vertical-align: middle;\n",
       "    }\n",
       "\n",
       "    .dataframe tbody tr th {\n",
       "        vertical-align: top;\n",
       "    }\n",
       "\n",
       "    .dataframe thead th {\n",
       "        text-align: right;\n",
       "    }\n",
       "</style>\n",
       "<table border=\"1\" class=\"dataframe\">\n",
       "  <thead>\n",
       "    <tr style=\"text-align: right;\">\n",
       "      <th></th>\n",
       "      <th>dependents</th>\n",
       "      <th>applicantincome</th>\n",
       "      <th>coapplicantincome</th>\n",
       "      <th>loanamount</th>\n",
       "      <th>loan_amount_term</th>\n",
       "      <th>credit_history</th>\n",
       "    </tr>\n",
       "  </thead>\n",
       "  <tbody>\n",
       "    <tr>\n",
       "      <th>count</th>\n",
       "      <td>599.000000</td>\n",
       "      <td>614.000000</td>\n",
       "      <td>614.000000</td>\n",
       "      <td>592.000000</td>\n",
       "      <td>600.00000</td>\n",
       "      <td>564.000000</td>\n",
       "    </tr>\n",
       "    <tr>\n",
       "      <th>mean</th>\n",
       "      <td>0.762938</td>\n",
       "      <td>5403.459283</td>\n",
       "      <td>1621.245798</td>\n",
       "      <td>146.412162</td>\n",
       "      <td>342.00000</td>\n",
       "      <td>0.842199</td>\n",
       "    </tr>\n",
       "    <tr>\n",
       "      <th>std</th>\n",
       "      <td>1.015216</td>\n",
       "      <td>6109.041673</td>\n",
       "      <td>2926.248369</td>\n",
       "      <td>85.587325</td>\n",
       "      <td>65.12041</td>\n",
       "      <td>0.364878</td>\n",
       "    </tr>\n",
       "    <tr>\n",
       "      <th>min</th>\n",
       "      <td>0.000000</td>\n",
       "      <td>150.000000</td>\n",
       "      <td>0.000000</td>\n",
       "      <td>9.000000</td>\n",
       "      <td>12.00000</td>\n",
       "      <td>0.000000</td>\n",
       "    </tr>\n",
       "    <tr>\n",
       "      <th>25%</th>\n",
       "      <td>0.000000</td>\n",
       "      <td>2877.500000</td>\n",
       "      <td>0.000000</td>\n",
       "      <td>100.000000</td>\n",
       "      <td>360.00000</td>\n",
       "      <td>1.000000</td>\n",
       "    </tr>\n",
       "    <tr>\n",
       "      <th>50%</th>\n",
       "      <td>0.000000</td>\n",
       "      <td>3812.500000</td>\n",
       "      <td>1188.500000</td>\n",
       "      <td>128.000000</td>\n",
       "      <td>360.00000</td>\n",
       "      <td>1.000000</td>\n",
       "    </tr>\n",
       "    <tr>\n",
       "      <th>75%</th>\n",
       "      <td>2.000000</td>\n",
       "      <td>5795.000000</td>\n",
       "      <td>2297.250000</td>\n",
       "      <td>168.000000</td>\n",
       "      <td>360.00000</td>\n",
       "      <td>1.000000</td>\n",
       "    </tr>\n",
       "    <tr>\n",
       "      <th>max</th>\n",
       "      <td>3.000000</td>\n",
       "      <td>81000.000000</td>\n",
       "      <td>41667.000000</td>\n",
       "      <td>700.000000</td>\n",
       "      <td>480.00000</td>\n",
       "      <td>1.000000</td>\n",
       "    </tr>\n",
       "  </tbody>\n",
       "</table>\n",
       "</div>"
      ],
      "text/plain": [
       "       dependents  applicantincome  coapplicantincome  loanamount  \\\n",
       "count  599.000000       614.000000         614.000000  592.000000   \n",
       "mean     0.762938      5403.459283        1621.245798  146.412162   \n",
       "std      1.015216      6109.041673        2926.248369   85.587325   \n",
       "min      0.000000       150.000000           0.000000    9.000000   \n",
       "25%      0.000000      2877.500000           0.000000  100.000000   \n",
       "50%      0.000000      3812.500000        1188.500000  128.000000   \n",
       "75%      2.000000      5795.000000        2297.250000  168.000000   \n",
       "max      3.000000     81000.000000       41667.000000  700.000000   \n",
       "\n",
       "       loan_amount_term  credit_history  \n",
       "count         600.00000      564.000000  \n",
       "mean          342.00000        0.842199  \n",
       "std            65.12041        0.364878  \n",
       "min            12.00000        0.000000  \n",
       "25%           360.00000        1.000000  \n",
       "50%           360.00000        1.000000  \n",
       "75%           360.00000        1.000000  \n",
       "max           480.00000        1.000000  "
      ]
     },
     "execution_count": 5,
     "metadata": {},
     "output_type": "execute_result"
    }
   ],
   "source": [
    "# checking statistical summary\n",
    "df.describe()"
   ]
  },
  {
   "cell_type": "code",
   "execution_count": 6,
   "id": "a720f487",
   "metadata": {},
   "outputs": [
    {
     "data": {
      "text/html": [
       "<div>\n",
       "<style scoped>\n",
       "    .dataframe tbody tr th:only-of-type {\n",
       "        vertical-align: middle;\n",
       "    }\n",
       "\n",
       "    .dataframe tbody tr th {\n",
       "        vertical-align: top;\n",
       "    }\n",
       "\n",
       "    .dataframe thead th {\n",
       "        text-align: right;\n",
       "    }\n",
       "</style>\n",
       "<table border=\"1\" class=\"dataframe\">\n",
       "  <thead>\n",
       "    <tr style=\"text-align: right;\">\n",
       "      <th></th>\n",
       "      <th>loan_id</th>\n",
       "      <th>gender</th>\n",
       "      <th>married</th>\n",
       "      <th>education</th>\n",
       "      <th>self_employed</th>\n",
       "      <th>property_area</th>\n",
       "      <th>loan_status</th>\n",
       "    </tr>\n",
       "  </thead>\n",
       "  <tbody>\n",
       "    <tr>\n",
       "      <th>count</th>\n",
       "      <td>614</td>\n",
       "      <td>601</td>\n",
       "      <td>611</td>\n",
       "      <td>614</td>\n",
       "      <td>582</td>\n",
       "      <td>614</td>\n",
       "      <td>614</td>\n",
       "    </tr>\n",
       "    <tr>\n",
       "      <th>unique</th>\n",
       "      <td>614</td>\n",
       "      <td>2</td>\n",
       "      <td>2</td>\n",
       "      <td>2</td>\n",
       "      <td>2</td>\n",
       "      <td>3</td>\n",
       "      <td>2</td>\n",
       "    </tr>\n",
       "    <tr>\n",
       "      <th>top</th>\n",
       "      <td>lp001002</td>\n",
       "      <td>male</td>\n",
       "      <td>yes</td>\n",
       "      <td>graduate</td>\n",
       "      <td>no</td>\n",
       "      <td>semiurban</td>\n",
       "      <td>y</td>\n",
       "    </tr>\n",
       "    <tr>\n",
       "      <th>freq</th>\n",
       "      <td>1</td>\n",
       "      <td>489</td>\n",
       "      <td>398</td>\n",
       "      <td>480</td>\n",
       "      <td>500</td>\n",
       "      <td>233</td>\n",
       "      <td>422</td>\n",
       "    </tr>\n",
       "  </tbody>\n",
       "</table>\n",
       "</div>"
      ],
      "text/plain": [
       "         loan_id gender married education self_employed property_area  \\\n",
       "count        614    601     611       614           582           614   \n",
       "unique       614      2       2         2             2             3   \n",
       "top     lp001002   male     yes  graduate            no     semiurban   \n",
       "freq           1    489     398       480           500           233   \n",
       "\n",
       "       loan_status  \n",
       "count          614  \n",
       "unique           2  \n",
       "top              y  \n",
       "freq           422  "
      ]
     },
     "execution_count": 6,
     "metadata": {},
     "output_type": "execute_result"
    }
   ],
   "source": [
    "df.describe(include='O')"
   ]
  },
  {
   "cell_type": "markdown",
   "id": "998e8108",
   "metadata": {},
   "source": [
    "### 3. Check for missing values in the dataset, if present? handle them with appropriate methods and drop redundant features. "
   ]
  },
  {
   "cell_type": "code",
   "execution_count": 7,
   "id": "ebca9a90",
   "metadata": {},
   "outputs": [],
   "source": [
    "## Drop the redundent feature loan_id\n",
    "df=df.drop(columns=['loan_id'],axis=1)"
   ]
  },
  {
   "cell_type": "code",
   "execution_count": 8,
   "id": "0625b4f7",
   "metadata": {},
   "outputs": [
    {
     "data": {
      "text/plain": [
       "Index(['gender', 'married', 'dependents', 'education', 'self_employed',\n",
       "       'applicantincome', 'coapplicantincome', 'loanamount',\n",
       "       'loan_amount_term', 'credit_history', 'property_area', 'loan_status'],\n",
       "      dtype='object')"
      ]
     },
     "execution_count": 8,
     "metadata": {},
     "output_type": "execute_result"
    }
   ],
   "source": [
    "df.columns"
   ]
  },
  {
   "cell_type": "code",
   "execution_count": 9,
   "id": "545ae7da",
   "metadata": {},
   "outputs": [
    {
     "data": {
      "text/plain": [
       "gender               13\n",
       "married               3\n",
       "dependents           15\n",
       "education             0\n",
       "self_employed        32\n",
       "applicantincome       0\n",
       "coapplicantincome     0\n",
       "loanamount           22\n",
       "loan_amount_term     14\n",
       "credit_history       50\n",
       "property_area         0\n",
       "loan_status           0\n",
       "dtype: int64"
      ]
     },
     "execution_count": 9,
     "metadata": {},
     "output_type": "execute_result"
    }
   ],
   "source": [
    "# Checking missing values\n",
    "df.isnull().sum()"
   ]
  },
  {
   "cell_type": "code",
   "execution_count": 10,
   "id": "b7bab18d",
   "metadata": {},
   "outputs": [],
   "source": [
    "## Now filling \"NAN\" with the most frequent value- the mode.\n",
    "for col in ['gender', 'married', 'self_employed', 'loan_amount_term','credit_history','dependents']:\n",
    "    df[col].fillna(df[col].mode()[0], inplace=True)\n",
    "    \n",
    "## Now filling \"NAN\" with meadian value\n",
    "for col in ['loanamount']:\n",
    "    df[col].fillna(df[col].median(), inplace=True)"
   ]
  },
  {
   "cell_type": "code",
   "execution_count": 11,
   "id": "cd198f61",
   "metadata": {},
   "outputs": [
    {
     "data": {
      "text/plain": [
       "gender               0\n",
       "married              0\n",
       "dependents           0\n",
       "education            0\n",
       "self_employed        0\n",
       "applicantincome      0\n",
       "coapplicantincome    0\n",
       "loanamount           0\n",
       "loan_amount_term     0\n",
       "credit_history       0\n",
       "property_area        0\n",
       "loan_status          0\n",
       "dtype: int64"
      ]
     },
     "execution_count": 11,
     "metadata": {},
     "output_type": "execute_result"
    }
   ],
   "source": [
    "df.isnull().sum()"
   ]
  },
  {
   "cell_type": "markdown",
   "id": "a872a145",
   "metadata": {},
   "source": [
    "### 4. Visualize the distribution of the target column 'loan_status' with respect to various categorical features and write your observations."
   ]
  },
  {
   "cell_type": "code",
   "execution_count": 12,
   "id": "0165f4c1",
   "metadata": {},
   "outputs": [
    {
     "data": {
      "text/plain": [
       "Index(['gender', 'married', 'education', 'self_employed', 'property_area',\n",
       "       'loan_status'],\n",
       "      dtype='object')"
      ]
     },
     "execution_count": 12,
     "metadata": {},
     "output_type": "execute_result"
    }
   ],
   "source": [
    "categorical_features= df.select_dtypes(include=[np.object])\n",
    "categorical_features.columns"
   ]
  },
  {
   "cell_type": "code",
   "execution_count": 13,
   "id": "77fe95d5",
   "metadata": {},
   "outputs": [],
   "source": [
    "## Drop the Target Column\n",
    "categorical_features=categorical_features.drop(columns=['loan_status'],axis=1)"
   ]
  },
  {
   "cell_type": "code",
   "execution_count": 14,
   "id": "a84a4371",
   "metadata": {},
   "outputs": [
    {
     "data": {
      "image/png": "[encoded data removed]",
      "text/plain": [
       "<Figure size 2000x2000 with 5 Axes>"
      ]
     },
     "metadata": {},
     "output_type": "display_data"
    }
   ],
   "source": [
    "i=1\n",
    "plt.figure(figsize=(20,20))\n",
    "for feature in categorical_features:\n",
    "    plt.subplot(6,3,i)\n",
    "    sns.countplot(x=feature,hue='loan_status',data=df)\n",
    "    i+=1"
   ]
  },
  {
   "cell_type": "markdown",
   "id": "bce3f393",
   "metadata": {},
   "source": [
    "- Majorly the male customers applied the loan than female customers and the loan approved to the male customers and the loan rejection ratio is lesser for female customers.\n",
    "- The finance company approved the loan for married customer based on the eligilbility.\n",
    "- Loan approval rate is higher for the graduates.\n",
    "- Mostly the loan sanctioned for the private employees\n",
    "- loan mostly approved to Semi-urban area customers than urban and rural areas customers. "
   ]
  },
  {
   "cell_type": "markdown",
   "id": "2c5ec05c",
   "metadata": {},
   "source": [
    "### 5. Encode the categorical data."
   ]
  },
  {
   "cell_type": "code",
   "execution_count": 15,
   "id": "a2eb9eb0",
   "metadata": {},
   "outputs": [],
   "source": [
    "df['applicantincome'] = df['applicantincome'].astype(float)"
   ]
  },
  {
   "cell_type": "code",
   "execution_count": 16,
   "id": "a32f6cef",
   "metadata": {},
   "outputs": [],
   "source": [
    "## Manual Encoding for the education feature\n",
    "df['education'] = df['education'].replace({'not graduate':0.0, 'graduate':1.0})"
   ]
  },
  {
   "cell_type": "code",
   "execution_count": 17,
   "id": "c5196cbd",
   "metadata": {},
   "outputs": [],
   "source": [
    "df_cat = df.select_dtypes(include='object')\n",
    "le = LabelEncoder()\n",
    "for col in df_cat:\n",
    "    df[col] = le.fit_transform(df[col])\n",
    "    df[col] = df[col].astype(float)"
   ]
  },
  {
   "cell_type": "code",
   "execution_count": 18,
   "id": "89858677",
   "metadata": {},
   "outputs": [
    {
     "data": {
      "text/html": [
       "<div>\n",
       "<style scoped>\n",
       "    .dataframe tbody tr th:only-of-type {\n",
       "        vertical-align: middle;\n",
       "    }\n",
       "\n",
       "    .dataframe tbody tr th {\n",
       "        vertical-align: top;\n",
       "    }\n",
       "\n",
       "    .dataframe thead th {\n",
       "        text-align: right;\n",
       "    }\n",
       "</style>\n",
       "<table border=\"1\" class=\"dataframe\">\n",
       "  <thead>\n",
       "    <tr style=\"text-align: right;\">\n",
       "      <th></th>\n",
       "      <th>gender</th>\n",
       "      <th>married</th>\n",
       "      <th>dependents</th>\n",
       "      <th>education</th>\n",
       "      <th>self_employed</th>\n",
       "      <th>applicantincome</th>\n",
       "      <th>coapplicantincome</th>\n",
       "      <th>loanamount</th>\n",
       "      <th>loan_amount_term</th>\n",
       "      <th>credit_history</th>\n",
       "      <th>property_area</th>\n",
       "      <th>loan_status</th>\n",
       "    </tr>\n",
       "  </thead>\n",
       "  <tbody>\n",
       "    <tr>\n",
       "      <th>0</th>\n",
       "      <td>1.0</td>\n",
       "      <td>0.0</td>\n",
       "      <td>0.0</td>\n",
       "      <td>1.0</td>\n",
       "      <td>0.0</td>\n",
       "      <td>5849.0</td>\n",
       "      <td>0.0</td>\n",
       "      <td>128.0</td>\n",
       "      <td>360.0</td>\n",
       "      <td>1.0</td>\n",
       "      <td>2.0</td>\n",
       "      <td>1.0</td>\n",
       "    </tr>\n",
       "    <tr>\n",
       "      <th>1</th>\n",
       "      <td>1.0</td>\n",
       "      <td>1.0</td>\n",
       "      <td>1.0</td>\n",
       "      <td>1.0</td>\n",
       "      <td>0.0</td>\n",
       "      <td>4583.0</td>\n",
       "      <td>1508.0</td>\n",
       "      <td>128.0</td>\n",
       "      <td>360.0</td>\n",
       "      <td>1.0</td>\n",
       "      <td>0.0</td>\n",
       "      <td>0.0</td>\n",
       "    </tr>\n",
       "    <tr>\n",
       "      <th>2</th>\n",
       "      <td>1.0</td>\n",
       "      <td>1.0</td>\n",
       "      <td>0.0</td>\n",
       "      <td>1.0</td>\n",
       "      <td>1.0</td>\n",
       "      <td>3000.0</td>\n",
       "      <td>0.0</td>\n",
       "      <td>66.0</td>\n",
       "      <td>360.0</td>\n",
       "      <td>1.0</td>\n",
       "      <td>2.0</td>\n",
       "      <td>1.0</td>\n",
       "    </tr>\n",
       "    <tr>\n",
       "      <th>3</th>\n",
       "      <td>1.0</td>\n",
       "      <td>1.0</td>\n",
       "      <td>0.0</td>\n",
       "      <td>0.0</td>\n",
       "      <td>0.0</td>\n",
       "      <td>2583.0</td>\n",
       "      <td>2358.0</td>\n",
       "      <td>120.0</td>\n",
       "      <td>360.0</td>\n",
       "      <td>1.0</td>\n",
       "      <td>2.0</td>\n",
       "      <td>1.0</td>\n",
       "    </tr>\n",
       "    <tr>\n",
       "      <th>4</th>\n",
       "      <td>1.0</td>\n",
       "      <td>0.0</td>\n",
       "      <td>0.0</td>\n",
       "      <td>1.0</td>\n",
       "      <td>0.0</td>\n",
       "      <td>6000.0</td>\n",
       "      <td>0.0</td>\n",
       "      <td>141.0</td>\n",
       "      <td>360.0</td>\n",
       "      <td>1.0</td>\n",
       "      <td>2.0</td>\n",
       "      <td>1.0</td>\n",
       "    </tr>\n",
       "  </tbody>\n",
       "</table>\n",
       "</div>"
      ],
      "text/plain": [
       "   gender  married  dependents  education  self_employed  applicantincome  \\\n",
       "0     1.0      0.0         0.0        1.0            0.0           5849.0   \n",
       "1     1.0      1.0         1.0        1.0            0.0           4583.0   \n",
       "2     1.0      1.0         0.0        1.0            1.0           3000.0   \n",
       "3     1.0      1.0         0.0        0.0            0.0           2583.0   \n",
       "4     1.0      0.0         0.0        1.0            0.0           6000.0   \n",
       "\n",
       "   coapplicantincome  loanamount  loan_amount_term  credit_history  \\\n",
       "0                0.0       128.0             360.0             1.0   \n",
       "1             1508.0       128.0             360.0             1.0   \n",
       "2                0.0        66.0             360.0             1.0   \n",
       "3             2358.0       120.0             360.0             1.0   \n",
       "4                0.0       141.0             360.0             1.0   \n",
       "\n",
       "   property_area  loan_status  \n",
       "0            2.0          1.0  \n",
       "1            0.0          0.0  \n",
       "2            2.0          1.0  \n",
       "3            2.0          1.0  \n",
       "4            2.0          1.0  "
      ]
     },
     "execution_count": 18,
     "metadata": {},
     "output_type": "execute_result"
    }
   ],
   "source": [
    "df.head()"
   ]
  },
  {
   "cell_type": "markdown",
   "id": "669a31bb",
   "metadata": {},
   "source": [
    "- We observe that the Encoded dataset with original dataset, labels of the converted categorical column values are as follows:\n",
    "    - Gender labels\n",
    "        - Female : 0\n",
    "        - Male : 1\n",
    "    - Married Labels\n",
    "        - No : 0\n",
    "        - Yes : 1\n",
    "    - Education labels\n",
    "        - Not Graduate : 0\n",
    "        - Graduate : 1\n",
    "    - Self Employed Labels\n",
    "        - No : 0\n",
    "        - Yes : 1\n",
    "    - Property Area Labels\n",
    "        - rural : 0\n",
    "        - semiurban : 1\n",
    "        - Urban : 2\n",
    "        \n",
    "        "
   ]
  },
  {
   "cell_type": "markdown",
   "id": "8946c55d",
   "metadata": {},
   "source": [
    "### 6. Separate the target and independent features and split the data into train and test. "
   ]
  },
  {
   "cell_type": "code",
   "execution_count": 19,
   "id": "6a095ef2",
   "metadata": {},
   "outputs": [],
   "source": [
    "## Separate the target\n",
    "X= df.drop('loan_status',axis=1)\n",
    "y= df['loan_status']"
   ]
  },
  {
   "cell_type": "code",
   "execution_count": 20,
   "id": "a334938b",
   "metadata": {},
   "outputs": [
    {
     "name": "stdout",
     "output_type": "stream",
     "text": [
      "Shape of X_train: (429, 11)\n",
      "Shape of X_test: (185, 11)\n",
      "Shape of y_train: (429,)\n",
      "Shape of y_test: (185,)\n"
     ]
    }
   ],
   "source": [
    "## split the data into train and test.\n",
    "X_train, X_test, y_train, y_test = train_test_split(X,y,test_size=0.30,random_state=10)\n",
    "print('Shape of X_train:',X_train.shape)\n",
    "print('Shape of X_test:',X_test.shape)\n",
    "print('Shape of y_train:',y_train.shape)\n",
    "print('Shape of y_test:',y_test.shape)"
   ]
  },
  {
   "cell_type": "markdown",
   "id": "82c61430",
   "metadata": {},
   "source": [
    "### 7. Build any classification model to predict the loan status of the customer and save your model using pickle. "
   ]
  },
  {
   "cell_type": "markdown",
   "id": "2e6abc71",
   "metadata": {},
   "source": [
    "#### Checking Accuracy for the Classification Model"
   ]
  },
  {
   "cell_type": "code",
   "execution_count": 21,
   "id": "3daff340",
   "metadata": {},
   "outputs": [],
   "source": [
    "def fit_n_predict(model, X_train, X_test, y_train, y_test): \n",
    "    # Fit the model with train data\n",
    "    model.fit(X_train, y_train)\n",
    "    \n",
    "    # Making prediction on test set\n",
    "    pred=model.predict(X_test)\n",
    "    \n",
    "    # Calculating the accuracy score\n",
    "    accuracy = accuracy_score(y_test, pred)\n",
    "    \n",
    "    return accuracy "
   ]
  },
  {
   "cell_type": "code",
   "execution_count": 22,
   "id": "b2bdbed6",
   "metadata": {},
   "outputs": [],
   "source": [
    "# Intializing the models\n",
    "lr = LogisticRegression()\n",
    "nb = GaussianNB()\n",
    "knn = KNeighborsClassifier()\n",
    "dt = DecisionTreeClassifier()\n",
    "rf = RandomForestClassifier(n_estimators=30, random_state=10)\n",
    "adb = AdaBoostClassifier()\n",
    "gb = GradientBoostingClassifier()\n",
    "\n",
    "estimators=[('rf',rf),('knn',knn), ('gb',gb), ('adb',adb)]\n",
    "sc= StackingClassifier(estimators=estimators, final_estimator=rf)"
   ]
  },
  {
   "cell_type": "code",
   "execution_count": 23,
   "id": "ab15a916",
   "metadata": {},
   "outputs": [],
   "source": [
    "result = pd.DataFrame(columns = ['Accuracy'])\n",
    "\n",
    "for model,model_name in zip([lr,nb,knn,dt,rf,adb,gb,sc],\n",
    "                            ['Logistic Regression','Naive Bayes','KNN','Decision Tree','Random Forest',\n",
    "                            'Ada Boost', 'Gradient Boost', 'Stacking']):\n",
    "    \n",
    "    result.loc[model_name] = fit_n_predict(model,X_train,X_test,y_train,y_test)"
   ]
  },
  {
   "cell_type": "code",
   "execution_count": 24,
   "id": "e8c93810",
   "metadata": {},
   "outputs": [
    {
     "data": {
      "text/html": [
       "<div>\n",
       "<style scoped>\n",
       "    .dataframe tbody tr th:only-of-type {\n",
       "        vertical-align: middle;\n",
       "    }\n",
       "\n",
       "    .dataframe tbody tr th {\n",
       "        vertical-align: top;\n",
       "    }\n",
       "\n",
       "    .dataframe thead th {\n",
       "        text-align: right;\n",
       "    }\n",
       "</style>\n",
       "<table border=\"1\" class=\"dataframe\">\n",
       "  <thead>\n",
       "    <tr style=\"text-align: right;\">\n",
       "      <th></th>\n",
       "      <th>Accuracy</th>\n",
       "    </tr>\n",
       "  </thead>\n",
       "  <tbody>\n",
       "    <tr>\n",
       "      <th>Logistic Regression</th>\n",
       "      <td>0.800000</td>\n",
       "    </tr>\n",
       "    <tr>\n",
       "      <th>Naive Bayes</th>\n",
       "      <td>0.794595</td>\n",
       "    </tr>\n",
       "    <tr>\n",
       "      <th>KNN</th>\n",
       "      <td>0.659459</td>\n",
       "    </tr>\n",
       "    <tr>\n",
       "      <th>Decision Tree</th>\n",
       "      <td>0.670270</td>\n",
       "    </tr>\n",
       "    <tr>\n",
       "      <th>Random Forest</th>\n",
       "      <td>0.772973</td>\n",
       "    </tr>\n",
       "    <tr>\n",
       "      <th>Ada Boost</th>\n",
       "      <td>0.767568</td>\n",
       "    </tr>\n",
       "    <tr>\n",
       "      <th>Gradient Boost</th>\n",
       "      <td>0.778378</td>\n",
       "    </tr>\n",
       "    <tr>\n",
       "      <th>Stacking</th>\n",
       "      <td>0.751351</td>\n",
       "    </tr>\n",
       "  </tbody>\n",
       "</table>\n",
       "</div>"
      ],
      "text/plain": [
       "                     Accuracy\n",
       "Logistic Regression  0.800000\n",
       "Naive Bayes          0.794595\n",
       "KNN                  0.659459\n",
       "Decision Tree        0.670270\n",
       "Random Forest        0.772973\n",
       "Ada Boost            0.767568\n",
       "Gradient Boost       0.778378\n",
       "Stacking             0.751351"
      ]
     },
     "execution_count": 24,
     "metadata": {},
     "output_type": "execute_result"
    }
   ],
   "source": [
    "result"
   ]
  },
  {
   "cell_type": "markdown",
   "id": "dd13b3e9",
   "metadata": {},
   "source": [
    "- Based on the Accuracy of the models, the 4 highest amoung the model is Logistic Regression, Naive Bayes & Gradient Boost classifier and their accuracy around 77-80%.\n",
    "- We can further go with evaluating the Logistic Regression, Naive Bayes & Gradient Boost classifier based on the different performance metrics such as presicion, recall and F1score and choose the model accordingly."
   ]
  },
  {
   "cell_type": "code",
   "execution_count": 25,
   "id": "c4a7e689",
   "metadata": {},
   "outputs": [],
   "source": [
    "from sklearn.metrics import plot_confusion_matrix\n",
    "from sklearn.metrics import classification_report"
   ]
  },
  {
   "cell_type": "markdown",
   "id": "d60c810d",
   "metadata": {},
   "source": [
    "#### Predict \"Outcome\" using Gradient Boosting Classifier  "
   ]
  },
  {
   "cell_type": "code",
   "execution_count": 26,
   "id": "7ba104d4",
   "metadata": {},
   "outputs": [
    {
     "name": "stdout",
     "output_type": "stream",
     "text": [
      "Accuracy train: 0.9114219114219114\n",
      "Accuracy test: 0.7783783783783784\n"
     ]
    }
   ],
   "source": [
    "y_train_pred_gb = gb.predict(X_train) \n",
    "y_test_pred_gb = gb.predict(X_test)\n",
    "\n",
    "\n",
    "accuracy_train = accuracy_score(y_train,y_train_pred_gb)\n",
    "accuracy_test = accuracy_score(y_test,y_test_pred_gb)\n",
    "\n",
    "print('Accuracy train:', accuracy_train)\n",
    "print('Accuracy test:', accuracy_test)"
   ]
  },
  {
   "cell_type": "code",
   "execution_count": 27,
   "id": "25ffd33e",
   "metadata": {},
   "outputs": [
    {
     "data": {
      "image/png": "[encoded data removed]",
      "text/plain": [
       "<Figure size 640x480 with 2 Axes>"
      ]
     },
     "metadata": {},
     "output_type": "display_data"
    }
   ],
   "source": [
    "## Confusion matrix\n",
    "plot_confusion_matrix(gb, X_test, y_test)\n",
    "plt.show()"
   ]
  },
  {
   "cell_type": "code",
   "execution_count": 28,
   "id": "c6b18797",
   "metadata": {},
   "outputs": [
    {
     "name": "stdout",
     "output_type": "stream",
     "text": [
      "              precision    recall  f1-score   support\n",
      "\n",
      "         0.0       0.69      0.38      0.49        52\n",
      "         1.0       0.79      0.93      0.86       133\n",
      "\n",
      "    accuracy                           0.78       185\n",
      "   macro avg       0.74      0.66      0.68       185\n",
      "weighted avg       0.77      0.78      0.76       185\n",
      "\n"
     ]
    }
   ],
   "source": [
    "## Compute precision, recall and F1-score\n",
    "print(classification_report(y_test, y_test_pred_gb))"
   ]
  },
  {
   "cell_type": "markdown",
   "id": "29d2c028",
   "metadata": {},
   "source": [
    "#### Predict \"Outcome\" using Naive Bayes Classifier  "
   ]
  },
  {
   "cell_type": "code",
   "execution_count": 29,
   "id": "2817006d",
   "metadata": {},
   "outputs": [
    {
     "name": "stdout",
     "output_type": "stream",
     "text": [
      "Accuracy train: 0.8065268065268065\n",
      "Accuracy test: 0.7945945945945946\n"
     ]
    }
   ],
   "source": [
    "y_train_pred_nb = nb.predict(X_train) \n",
    "y_test_pred_nb = nb.predict(X_test)\n",
    "\n",
    "\n",
    "accuracy_train = accuracy_score(y_train,y_train_pred_nb)\n",
    "accuracy_test = accuracy_score(y_test,y_test_pred_nb)\n",
    "\n",
    "print('Accuracy train:', accuracy_train)\n",
    "print('Accuracy test:', accuracy_test)"
   ]
  },
  {
   "cell_type": "code",
   "execution_count": 30,
   "id": "e68c0a6d",
   "metadata": {},
   "outputs": [
    {
     "data": {
      "image/png": "[encoded data removed]",
      "text/plain": [
       "<Figure size 640x480 with 2 Axes>"
      ]
     },
     "metadata": {},
     "output_type": "display_data"
    }
   ],
   "source": [
    "## Confusion matrix\n",
    "plot_confusion_matrix(nb, X_test, y_test)\n",
    "plt.show()"
   ]
  },
  {
   "cell_type": "code",
   "execution_count": 31,
   "id": "b376d4f7",
   "metadata": {},
   "outputs": [
    {
     "name": "stdout",
     "output_type": "stream",
     "text": [
      "              precision    recall  f1-score   support\n",
      "\n",
      "         0.0       0.79      0.37      0.50        52\n",
      "         1.0       0.80      0.96      0.87       133\n",
      "\n",
      "    accuracy                           0.79       185\n",
      "   macro avg       0.79      0.66      0.69       185\n",
      "weighted avg       0.79      0.79      0.77       185\n",
      "\n"
     ]
    }
   ],
   "source": [
    "## Compute precision, recall and F1-score\n",
    "print(classification_report(y_test, y_test_pred_nb))"
   ]
  },
  {
   "cell_type": "markdown",
   "id": "1683c641",
   "metadata": {},
   "source": [
    "#### Predict \"Outcome\" using Logistic Regression Classifier  "
   ]
  },
  {
   "cell_type": "code",
   "execution_count": 32,
   "id": "8ab39bbb",
   "metadata": {},
   "outputs": [
    {
     "name": "stdout",
     "output_type": "stream",
     "text": [
      "Accuracy train: 0.8158508158508159\n",
      "Accuracy test: 0.8\n"
     ]
    }
   ],
   "source": [
    "y_train_pred_lr = lr.predict(X_train) \n",
    "y_test_pred_lr = lr.predict(X_test)\n",
    "\n",
    "\n",
    "accuracy_train = accuracy_score(y_train,y_train_pred_lr)\n",
    "accuracy_test = accuracy_score(y_test,y_test_pred_lr)\n",
    "\n",
    "print('Accuracy train:', accuracy_train)\n",
    "print('Accuracy test:', accuracy_test)"
   ]
  },
  {
   "cell_type": "code",
   "execution_count": 33,
   "id": "4a48601c",
   "metadata": {},
   "outputs": [
    {
     "data": {
      "image/png": "[encoded data removed]",
      "text/plain": [
       "<Figure size 640x480 with 2 Axes>"
      ]
     },
     "metadata": {},
     "output_type": "display_data"
    }
   ],
   "source": [
    "## Confusion matrix\n",
    "plot_confusion_matrix(lr, X_test, y_test)\n",
    "plt.show()"
   ]
  },
  {
   "cell_type": "code",
   "execution_count": 34,
   "id": "698e7cd2",
   "metadata": {},
   "outputs": [
    {
     "name": "stdout",
     "output_type": "stream",
     "text": [
      "              precision    recall  f1-score   support\n",
      "\n",
      "         0.0       0.94      0.31      0.46        52\n",
      "         1.0       0.79      0.99      0.88       133\n",
      "\n",
      "    accuracy                           0.80       185\n",
      "   macro avg       0.86      0.65      0.67       185\n",
      "weighted avg       0.83      0.80      0.76       185\n",
      "\n"
     ]
    }
   ],
   "source": [
    "## Compute precision, recall and F1-score\n",
    "print(classification_report(y_test, y_test_pred_lr))"
   ]
  },
  {
   "cell_type": "markdown",
   "id": "cd98782d",
   "metadata": {},
   "source": [
    "#### Saving Stacking Classifier model to disk"
   ]
  },
  {
   "cell_type": "markdown",
   "id": "90f82200",
   "metadata": {},
   "source": [
    "- Based on the evaluation of the Higher accuracy models,conclude that we build the Logistic Regression Classifier Model for Prection of Loan Approval Eligibility."
   ]
  },
  {
   "cell_type": "code",
   "execution_count": 35,
   "id": "f699161b",
   "metadata": {},
   "outputs": [],
   "source": [
    "#Saving model to disk\n",
    "import pickle\n",
    "pickle.dump(lr, open('model.pkl', 'wb'))\n",
    "#Loading model\n",
    "model = pickle.load(open('model.pkl', 'rb'))"
   ]
  }
 ],
 "metadata": {
  "kernelspec": {
   "display_name": "Python 3 (ipykernel)",
   "language": "python",
   "name": "python3"
  },
  "language_info": {
   "codemirror_mode": {
    "name": "ipython",
    "version": 3
   },
   "file_extension": ".py",
   "mimetype": "text/x-python",
   "name": "python",
   "nbconvert_exporter": "python",
   "pygments_lexer": "ipython3",
   "version": "3.9.13"
  }
 },
 "nbformat": 4,
 "nbformat_minor": 5
}
